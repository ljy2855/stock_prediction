{
 "cells": [
  {
   "cell_type": "code",
   "execution_count": 3,
   "metadata": {},
   "outputs": [],
   "source": [
    "import torch\n",
    "\n",
    "from data_processing.prepare_data import prepare_inference_input\n",
    "from model.transformer import TransformerTimeSeriesModel\n",
    "\n",
    "\n"
   ]
  },
  {
   "cell_type": "code",
   "execution_count": 4,
   "metadata": {},
   "outputs": [
    {
     "name": "stdout",
     "output_type": "stream",
     "text": [
      "tensor([[[ 1.5382,  1.8574,  2.3983, -0.4301,  2.3788,  2.3772,  2.3813,\n",
      "           2.4017],\n",
      "         [ 1.5382,  1.8574,  2.4410, -0.8964,  2.4227,  2.4487,  2.4176,\n",
      "           2.4413],\n",
      "         [ 1.5382,  1.8574,  2.4650, -0.9139,  2.4505,  2.4784,  2.4464,\n",
      "           2.4637],\n",
      "         [ 1.5382,  1.8574,  2.4704, -1.1111,  2.4554,  2.4862,  2.4804,\n",
      "           2.4686],\n",
      "         [ 1.5382,  1.8574,  2.4530, -0.9905,  2.4472,  2.4615,  2.4699,\n",
      "           2.4525],\n",
      "         [ 1.5382,  1.8574,  2.4557, -0.8929,  2.4466,  2.4671,  2.4576,\n",
      "           2.4550],\n",
      "         [ 1.5382,  1.8574,  2.4198, -1.0818,  2.4334,  2.4454,  2.4572,\n",
      "           2.4217],\n",
      "         [ 1.5382,  1.8574,  2.3489, -0.2563,  2.3627,  2.3629,  2.3862,\n",
      "           2.3558],\n",
      "         [ 1.5382,  1.8574,  2.3713, -1.1223,  2.3561,  2.3768,  2.3535,\n",
      "           2.3766],\n",
      "         [ 1.5382,  1.8574,  2.3914, -0.8479,  2.3705,  2.3645,  2.3394,\n",
      "           2.3953],\n",
      "         [ 1.5382,  1.8574,  2.3932, -0.8341,  2.3682,  2.3701,  2.3924,\n",
      "           2.3970],\n",
      "         [ 1.5382,  1.8574,  2.4228, -0.9071,  2.4084,  2.3966,  2.4206,\n",
      "           2.4245],\n",
      "         [ 1.5382,  1.8574,  2.4400, -1.0969,  2.4180,  2.4501,  2.4230,\n",
      "           2.4404],\n",
      "         [ 1.5382,  1.8574,  2.4589, -1.0030,  2.4618,  2.4693,  2.4777,\n",
      "           2.4580],\n",
      "         [ 1.5382,  1.8574,  2.4880, -0.9323,  2.4662,  2.4963,  2.4710,\n",
      "           2.4850],\n",
      "         [ 1.5382,  1.8574,  2.4710, -1.1909,  2.4617,  2.4889,  2.4865,\n",
      "           2.4692],\n",
      "         [ 1.5382,  1.8574,  2.5058, -1.2760,  2.4849,  2.5086,  2.4790,\n",
      "           2.5015],\n",
      "         [ 1.5382,  1.8574,  2.5158, -1.2411,  2.4939,  2.5376,  2.5099,\n",
      "           2.5109],\n",
      "         [ 1.5382,  1.8574,  2.5185, -1.3488,  2.4925,  2.5364,  2.5138,\n",
      "           2.5133],\n",
      "         [ 1.5382,  1.8574,  2.5535, -0.9953,  2.5273,  2.5609,  2.5348,\n",
      "           2.5458],\n",
      "         [ 1.5382,  1.8574,  2.5441, -1.3075,  2.5326,  2.5736,  2.5537,\n",
      "           2.5371],\n",
      "         [ 1.5382,  1.8574,  2.5549, -1.2523,  2.5381,  2.5803,  2.5517,\n",
      "           2.5471],\n",
      "         [ 1.5382,  1.8574,  2.5257, -1.1744,  2.5268,  2.5527,  2.5540,\n",
      "           2.5200],\n",
      "         [ 1.5382,  1.8574,  2.5081, -1.1189,  2.5077,  2.5344,  2.5323,\n",
      "           2.5037],\n",
      "         [ 1.5382,  1.8574,  2.5516, -1.3094,  2.5321,  2.5661,  2.5362,\n",
      "           2.5441],\n",
      "         [ 1.5382,  1.8574,  2.5224, -1.2456,  2.5203,  2.5551,  2.5436,\n",
      "           2.5169],\n",
      "         [ 1.5382,  1.8574,  2.5213, -1.1485,  2.5201,  2.5408,  2.5419,\n",
      "           2.5159],\n",
      "         [ 1.5382,  1.8574,  2.5454, -0.9751,  2.5261,  2.5633,  2.5382,\n",
      "           2.5383],\n",
      "         [ 1.5382,  1.8574,  2.5220, -0.7063,  2.5018,  2.5415,  2.5213,\n",
      "           2.5166],\n",
      "         [ 1.5382,  1.8574,  2.3538,  0.4501,  2.5134,  2.3819,  2.5194,\n",
      "           2.3604]]])\n"
     ]
    }
   ],
   "source": [
    "n_steps=30\n",
    "\n",
    "model_input = prepare_inference_input(n_steps,\"../data/processed/merged_data.csv\")\n",
    "print(model_input)"
   ]
  },
  {
   "cell_type": "code",
   "execution_count": 15,
   "metadata": {},
   "outputs": [
    {
     "name": "stdout",
     "output_type": "stream",
     "text": [
      "Predicted Momentum: -0.1693\n"
     ]
    },
    {
     "name": "stderr",
     "output_type": "stream",
     "text": [
      "/var/folders/_l/lg0zz1ln2_z8ct4p275jp5880000gn/T/ipykernel_79048/186690793.py:8: FutureWarning: You are using `torch.load` with `weights_only=False` (the current default value), which uses the default pickle module implicitly. It is possible to construct malicious pickle data which will execute arbitrary code during unpickling (See https://github.com/pytorch/pytorch/blob/main/SECURITY.md#untrusted-models for more details). In a future release, the default value for `weights_only` will be flipped to `True`. This limits the functions that could be executed during unpickling. Arbitrary objects will no longer be allowed to be loaded via this mode unless they are explicitly allowlisted by the user via `torch.serialization.add_safe_globals`. We recommend you start setting `weights_only=True` for any use case where you don't have full control of the loaded file. Please open an issue on GitHub for any issues related to this experimental feature.\n",
      "  model.load_state_dict(torch.load(\"../models/Transformer.pth\"))  # 학습된 모델 로드\n"
     ]
    }
   ],
   "source": [
    "\n",
    "# Transformer 모델 초기화\n",
    "input_size = 8\n",
    "d_model = 512\n",
    "nhead = 8\n",
    "num_layers = 6\n",
    "output_size = 1\n",
    "model = TransformerTimeSeriesModel(input_size, d_model, nhead, num_layers, output_size)\n",
    "model.load_state_dict(torch.load(\"../models/Transformer.pth\"))  # 학습된 모델 로드\n",
    "model.eval()\n",
    "\n",
    "# 예측 수행\n",
    "with torch.no_grad():\n",
    "    prediction = model(model_input)\n",
    "    print(f\"Predicted Momentum: {prediction.item():.4f}\")\n",
    "\n"
   ]
  }
 ],
 "metadata": {
  "kernelspec": {
   "display_name": "stock_ml",
   "language": "python",
   "name": "python3"
  },
  "language_info": {
   "codemirror_mode": {
    "name": "ipython",
    "version": 3
   },
   "file_extension": ".py",
   "mimetype": "text/x-python",
   "name": "python",
   "nbconvert_exporter": "python",
   "pygments_lexer": "ipython3",
   "version": "3.12.8"
  }
 },
 "nbformat": 4,
 "nbformat_minor": 2
}
