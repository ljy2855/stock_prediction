{
 "cells": [
  {
   "cell_type": "markdown",
   "id": "e85f312d",
   "metadata": {},
   "source": [
    "# Backtest Report"
   ]
  },
  {
   "cell_type": "markdown",
   "id": "505f3546",
   "metadata": {},
   "source": [
    "## 1. Parameters"
   ]
  },
  {
   "cell_type": "code",
   "execution_count": null,
   "id": "348366c7",
   "metadata": {},
   "outputs": [],
   "source": [
    "{\n",
    "    \"Initial Balance\": 185.2938995361328,\n",
    "    \"Signal Threshold\": 0.1,\n",
    "    \"Risk Tolerance\": 1.5,\n",
    "    \"Final Portfolio Value\": 185.2938995361328,\n",
    "    \"Total Return\": 0.0\n",
    "}"
   ]
  },
  {
   "cell_type": "markdown",
   "id": "f58f2c17",
   "metadata": {},
   "source": [
    "## 2. Performance Graph"
   ]
  },
  {
   "cell_type": "code",
   "execution_count": null,
   "id": "50e03bca",
   "metadata": {},
   "outputs": [],
   "source": [
    "from PIL import Image\n",
    "img = Image.open('backtest_plot.png')\n",
    "img.show()"
   ]
  },
  {
   "cell_type": "markdown",
   "id": "eb11a16e",
   "metadata": {},
   "source": [
    "## 3. Trade Log"
   ]
  },
  {
   "cell_type": "code",
   "execution_count": null,
   "id": "99c6c597",
   "metadata": {},
   "outputs": [],
   "source": [
    "import pandas as pd\n",
    "trades = pd.read_csv('trades.csv')\n",
    "print(trades.head())"
   ]
  }
 ],
 "metadata": {
  "kernelspec": {
   "display_name": "stock_ml",
   "language": "python",
   "name": "python3"
  },
  "language_info": {
   "name": "python",
   "version": "3.12.8"
  }
 },
 "nbformat": 4,
 "nbformat_minor": 5
}
